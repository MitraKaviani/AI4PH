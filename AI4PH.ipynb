{
 "cells": [
  {
   "cell_type": "markdown",
   "id": "33f16dde",
   "metadata": {},
   "source": [
    "# 1. Load the Data"
   ]
  },
  {
   "cell_type": "code",
   "execution_count": null,
   "metadata": {},
   "outputs": [],
   "source": [
    "import pandas as pd"
   ]
  },
  {
   "cell_type": "code",
   "execution_count": 3,
   "id": "8de3b463",
   "metadata": {},
   "outputs": [],
   "source": [
    "\n",
    "\n",
    "# Load the dataset\n",
    "#file_path = 'path/to/your/lcodage.xlsx'  # Replace with the actual file path\n",
    "file_path = '/Users/sun/Library/CloudStorage/OneDrive-Personal/Desktop/AI4PH/lcodage.xlsx'  # Replace with the actual file path\n",
    "\n",
    "data = pd.read_excel(file_path, skiprows=5)  # Adjust skiprows as needed"
   ]
  },
  {
   "cell_type": "markdown",
   "id": "7c6ca810",
   "metadata": {},
   "source": [
   ]
  },
  {
   "cell_type": "raw",
   "id": "8b5007f9",
   "metadata": {},
   "source": [
    "The dataset includes data based on death certificates and is structured to compare data between 1980 and 2019.\n",
    "The first few rows contain headers and explanatory notes, which suggests that the actual data starts further down in the spreadsheet.\n",
    "The columns are organized to show age and rank order, cause of death, and the number of deaths for both years (1980 and 2019). However, the actual data entries for these categories aren't visible in the first few rows.\n",
    "It seems that this kind of data is typically used in public health to analyze trends in mortality over time, identify major health risks, and inform policy and healthcare priorities."
   ]
  },
  {
   "cell_type": "markdown",
   "id": "93d4dd95",
   "metadata": {},
   "source": [
    "# 2. Data Cleaning"
   ]
  },
  {
   "cell_type": "code",
   "execution_count": 9,
   "id": "5d75dff1",
   "metadata": {},
   "outputs": [
    {
     "name": "stdout",
     "output_type": "stream",
     "text": [
      "Age Group              0\n",
      "Cause of Death 1980    0\n",
      "Deaths 1980            0\n",
      "Cause of Death 2019    0\n",
      "Deaths 2019            0\n",
      "dtype: int64\n"
     ]
    }
   ],
   "source": [
    "# Renaming columns for clarity\n",
    "data.columns = ['Age Group', 'Cause of Death 1980', 'Deaths 1980', 'Cause of Death 2019', 'Deaths 2019']\n",
    "\n",
    "# Checking for missing values\n",
    "print(data.isnull().sum())\n",
    "\n",
    "# I decide drop rows with missing values ( we could also fill them with a default value)\n",
    "data.dropna(inplace=True)  # To drop rows with missing values\n",
    "# data.fillna(value=0, inplace=True)  # To fill missing values with 0\n",
    "\n",
    "# Check correct data types\n",
    "data['Deaths 1980'] = data['Deaths 1980'].astype(int)\n",
    "data['Deaths 2019'] = data['Deaths 2019'].astype(int)"
   ]
  },
  {
   "cell_type": "markdown",
   "id": "b63324ce",
   "metadata": {},
   "source": [
    "# 3. Exploratory Data Analysis"
   ]
  },
  {
   "cell_type": "markdown",
   "id": "973d0df5",
   "metadata": {},
   "source": [
    "# a) Visualization"
   ]
  },
  {
   "cell_type": "code",
   "execution_count": 12,
   "id": "8f253613",
   "metadata": {},
   "outputs": [
    {
     "data": {
      "image/png": "[encoded data removed]",
      "text/plain": [
       "<Figure size 432x288 with 1 Axes>"
      ]
     },
     "metadata": {
      "needs_background": "light"
     },
     "output_type": "display_data"
    }
   ],
   "source": [
    "import matplotlib.pyplot as plt\n",
    "\n",
    "# Example: Plotting the top 5 causes of death in 1980\n",
    "top_causes_1980 = data.groupby('Cause of Death 1980')['Deaths 2019'].sum().nlargest(5)\n",
    "top_causes_1980.plot(kind='bar')\n",
    "plt.title('Top 5 Causes of Death in 1980')\n",
    "plt.ylabel('Number of Deaths')\n",
    "plt.show()\n"
   ]
  },
  {
   "cell_type": "markdown",
   "id": "bdce76e0",
   "metadata": {},
   "source": [
    "## b) Summary Statistics"
   ]
  },
  {
   "cell_type": "code",
   "execution_count": 14,
   "id": "5d9cc285",
   "metadata": {},
   "outputs": [
    {
     "name": "stdout",
     "output_type": "stream",
     "text": [
      "count    7.700000e+01\n",
      "mean     6.531522e+04\n",
      "std      2.574709e+05\n",
      "min      4.900000e+01\n",
      "25%      3.810000e+02\n",
      "50%      3.115000e+03\n",
      "75%      2.233500e+04\n",
      "max      2.117332e+06\n",
      "Name: Deaths 2019, dtype: float64\n"
     ]
    }
   ],
   "source": [
    "# Summary statistics for deaths in 1980\n",
    "print(data['Deaths 2019'].describe())\n"
   ]
  },
  {
   "cell_type": "code",
   "execution_count": 15,
   "id": "70943c23",
   "metadata": {},
   "outputs": [
    {
     "name": "stdout",
     "output_type": "stream",
     "text": [
      "             Deaths 1980    Deaths 2019\n",
      "Age Group                              \n",
      "1          116344.714286  106602.571429\n",
      "2           60883.571429   81944.428571\n",
      "3           27457.285714   28948.571429\n",
      "4           11674.142857   24138.714286\n",
      "5           10425.000000   21972.571429\n",
      "6            6705.000000   12887.714286\n",
      "7            5470.857143   11826.285714\n",
      "8            5002.142857    8797.285714\n",
      "9            3081.571429    7235.857143\n",
      "10           2232.714286    6300.428571\n",
      "Rank       284181.857143  407813.000000\n"
     ]
    },
    {
     "name": "stderr",
     "output_type": "stream",
     "text": [
      "/var/folders/mt/4sh657hn5c187dhp487g4rzw0000gn/T/ipykernel_56413/1370491016.py:2: FutureWarning: Indexing with multiple keys (implicitly converted to a tuple of keys) will be deprecated, use a list instead.\n",
      "  mean_deaths_by_age_group = data.groupby('Age Group')['Deaths 1980', 'Deaths 2019'].mean()\n"
     ]
    }
   ],
   "source": [
    "# Grouping the data by Age Group and calculating the mean number of deaths for each age group\n",
    "mean_deaths_by_age_group = data.groupby('Age Group')['Deaths 1980', 'Deaths 2019'].mean()\n",
    "\n",
    "# Displaying the results\n",
    "print(mean_deaths_by_age_group)\n"
   ]
  },
  {
   "cell_type": "markdown",
   "id": "b5dae5b4",
   "metadata": {},
   "source": [
    "### b.1) Descriptive Statistics for Each Age Group"
   ]
  },
  {
   "cell_type": "code",
   "execution_count": 18,
   "id": "49616a5a",
   "metadata": {},
   "outputs": [
    {
     "name": "stdout",
     "output_type": "stream",
     "text": [
      "          Deaths 1980                                                          \\\n",
      "                count           mean            std     min      25%      50%   \n",
      "Age Group                                                                       \n",
      "1                 7.0  116344.714286  217285.974003  3313.0   7222.0  26206.0   \n",
      "2                 7.0   60883.571429   99673.918196  1026.0   3503.5   6537.0   \n",
      "3                 7.0   27457.285714   52947.451716   561.0   2781.0   5239.0   \n",
      "4                 7.0   11674.142857   16267.665346   338.0   1549.0   3648.0   \n",
      "5                 7.0   10425.000000   15807.259482   319.0    776.5   1572.0   \n",
      "6                 7.0    6705.000000   10263.146366   194.0    433.5   1497.0   \n",
      "7                 7.0    5470.857143    9142.566460   142.0    320.5   1166.0   \n",
      "8                 7.0    5002.142857    9088.607455   104.0    229.0   1058.0   \n",
      "9                 7.0    3081.571429    4806.160243    84.0    118.0   1012.0   \n",
      "10                7.0    2232.714286    3500.864165    71.0    109.0    817.0   \n",
      "Rank              7.0  284181.857143  488640.508606  8187.0  28107.5  49027.0   \n",
      "\n",
      "                               Deaths 2019                                \\\n",
      "                75%        max       count           mean            std   \n",
      "Age Group                                                                  \n",
      "1           87522.0   595406.0         7.0  106602.571429  194621.497799   \n",
      "2           76613.0   258389.0         7.0   81944.428571  160961.838816   \n",
      "3           17211.0   146417.0         7.0   28948.571429   49066.248005   \n",
      "4           14561.5    45512.0         7.0   24138.714286   47111.774444   \n",
      "5           12972.0    43587.0         7.0   21972.571429   44008.639761   \n",
      "6            8148.0    28081.0         7.0   12887.714286   23200.859041   \n",
      "7            5565.5    25216.0         7.0   11826.285714   22441.314710   \n",
      "8            4275.5    24844.0         7.0    8797.285714   15870.981714   \n",
      "9            3635.5    12968.0         7.0    7235.857143   14909.800417   \n",
      "10           2502.0     9519.0         7.0    6300.428571   12721.850060   \n",
      "Rank       266998.0  1341848.0         7.0  407813.000000  777503.616273   \n",
      "\n",
      "                                                          \n",
      "              min      25%      50%       75%        max  \n",
      "Age Group                                                 \n",
      "1          1149.0   2896.5  11755.0   97969.0   531583.0  \n",
      "2           416.0   2110.0   5954.0   63779.5   435462.0  \n",
      "3           285.0    906.0   4774.0   31261.5   133246.0  \n",
      "4           284.0    814.5   1388.0   18238.5   129193.0  \n",
      "5           133.0    609.0   1245.0   15561.0   120090.0  \n",
      "6           122.0    284.0    742.0   13192.5    62397.0  \n",
      "7            57.0    199.0    603.0   10599.5    60527.0  \n",
      "8            53.0    149.0    424.0    9288.0    42230.0  \n",
      "9            52.0    126.5    406.0    4770.5    40399.0  \n",
      "10           49.0    112.0    354.0    4520.5    34435.0  \n",
      "Rank       3676.0  13209.0  29771.0  338747.0  2117332.0  \n"
     ]
    },
    {
     "name": "stderr",
     "output_type": "stream",
     "text": [
      "/var/folders/mt/4sh657hn5c187dhp487g4rzw0000gn/T/ipykernel_56413/3545300462.py:2: FutureWarning: Indexing with multiple keys (implicitly converted to a tuple of keys) will be deprecated, use a list instead.\n",
      "  descriptive_stats = data.groupby('Age Group')['Deaths 1980', 'Deaths 2019'].describe()\n"
     ]
    }
   ],
   "source": [
    "# Group the data by age group and calculate descriptive statistics\n",
    "descriptive_stats = data.groupby('Age Group')['Deaths 1980', 'Deaths 2019'].describe()\n",
    "\n",
    "# Display the results\n",
    "print(descriptive_stats)\n"
   ]
  },
  {
   "cell_type": "markdown",
   "id": "1736f131",
   "metadata": {},
   "source": [
    "### b.2) Compare Mortality Rates Over Time"
   ]
  },
  {
   "cell_type": "code",
   "execution_count": 20,
   "id": "a73fbf90",
   "metadata": {},
   "outputs": [
    {
     "name": "stdout",
     "output_type": "stream",
     "text": [
      "Age Group\n",
      "1        -9742.142857\n",
      "2        21060.857143\n",
      "3         1491.285714\n",
      "4        12464.571429\n",
      "5        11547.571429\n",
      "6         6182.714286\n",
      "7         6355.428571\n",
      "8         3795.142857\n",
      "9         4154.285714\n",
      "10        4067.714286\n",
      "Rank    123631.142857\n",
      "Name: Change in Deaths, dtype: float64\n"
     ]
    }
   ],
   "source": [
    "# Calculate the change in deaths from 1980 to 2019\n",
    "data['Change in Deaths'] = data['Deaths 2019'] - data['Deaths 1980']\n",
    "\n",
    "# Group by age group and calculate mean change\n",
    "mean_change_by_age = data.groupby('Age Group')['Change in Deaths'].mean()\n",
    "\n",
    "# Display the results\n",
    "print(mean_change_by_age)\n"
   ]
  },
  {
   "cell_type": "markdown",
   "id": "c92a69e6",
   "metadata": {},
   "source": [
    "### b.3) Age Group Specific Trends"
   ]
  },
  {
   "cell_type": "code",
   "execution_count": 23,
   "id": "b88418a1",
   "metadata": {},
   "outputs": [
    {
     "name": "stdout",
     "output_type": "stream",
     "text": [
      "                                                                                                                 Deaths 1980  \\\n",
      "Age Group Cause of Death 1980                                Cause of Death 2019                                               \n",
      "1         Congenital anomalies                               Congenital malformations, deformations and chro...         9220   \n",
      "          Diseases of heart                                  Diseases of heart                                        595406   \n",
      "                                                             Malignant neoplasms                                      148322   \n",
      "          Unintentional injuries                             Unintentional injuries                                    61465   \n",
      "2         Congenital anomalies                               Congenital malformations, deformations and chro...         1026   \n",
      "...                                                                                                                      ...   \n",
      "10        Congenital anomalies                               Septicemia                                                  817   \n",
      "          Homicide                                           Septicemia                                                 4019   \n",
      "          Newborn affected by complications of placenta, ... Necrotizing enterocolitis of newborn                        985   \n",
      "          Septicemia                                         In situ neoplasms, benign neoplasms and neoplas...           71   \n",
      "Rank      All causes                                         All causes                                              1989273   \n",
      "\n",
      "                                                                                                                 Deaths 2019  \\\n",
      "Age Group Cause of Death 1980                                Cause of Death 2019                                               \n",
      "1         Congenital anomalies                               Congenital malformations, deformations and chro...         4301   \n",
      "          Diseases of heart                                  Diseases of heart                                        531583   \n",
      "                                                             Malignant neoplasms                                      147352   \n",
      "          Unintentional injuries                             Unintentional injuries                                    62982   \n",
      "2         Congenital anomalies                               Congenital malformations, deformations and chro...          416   \n",
      "...                                                                                                                      ...   \n",
      "10        Congenital anomalies                               Septicemia                                                 1193   \n",
      "          Homicide                                           Septicemia                                                 7848   \n",
      "          Newborn affected by complications of placenta, ... Necrotizing enterocolitis of newborn                        354   \n",
      "          Septicemia                                         In situ neoplasms, benign neoplasms and neoplas...           49   \n",
      "Rank      All causes                                         All causes                                              2854691   \n",
      "\n",
      "                                                                                                                 Change in Deaths  \n",
      "Age Group Cause of Death 1980                                Cause of Death 2019                                                   \n",
      "1         Congenital anomalies                               Congenital malformations, deformations and chro...             -4919  \n",
      "          Diseases of heart                                  Diseases of heart                                             -63823  \n",
      "                                                             Malignant neoplasms                                             -970  \n",
      "          Unintentional injuries                             Unintentional injuries                                          1517  \n",
      "2         Congenital anomalies                               Congenital malformations, deformations and chro...              -610  \n",
      "...                                                                                                                           ...  \n",
      "10        Congenital anomalies                               Septicemia                                                       376  \n",
      "          Homicide                                           Septicemia                                                      3829  \n",
      "          Newborn affected by complications of placenta, ... Necrotizing enterocolitis of newborn                            -631  \n",
      "          Septicemia                                         In situ neoplasms, benign neoplasms and neoplas...               -22  \n",
      "Rank      All causes                                         All causes                                                    865418  \n",
      "\n",
      "[66 rows x 3 columns]\n"
     ]
    }
   ],
   "source": [
    "# Group by age group and cause of death for each year, and sum the deaths\n",
    "cause_of_death_trends = data.groupby(['Age Group', 'Cause of Death 1980', 'Cause of Death 2019']).sum()\n",
    "\n",
    "# Display the results\n",
    "print(cause_of_death_trends)\n"
   ]
  },
  {
   "cell_type": "markdown",
   "id": "42b52546",
   "metadata": {},
   "source": [
    "### b.4) Visualization of Trends"
   ]
  },
  {
   "cell_type": "code",
   "execution_count": 24,
   "id": "4ce902f3",
   "metadata": {},
   "outputs": [
    {
     "data": {
      "image/png": "[encoded data removed]",
      "text/plain": [
       "<Figure size 432x288 with 1 Axes>"
      ]
     },
     "metadata": {
      "needs_background": "light"
     },
     "output_type": "display_data"
    }
   ],
   "source": [
    "import matplotlib.pyplot as plt\n",
    "\n",
    "# Plotting the mean change in deaths for each age group\n",
    "mean_change_by_age.plot(kind='bar')\n",
    "plt.title('Change in Deaths from 1980 to 2019 by Age Group')\n",
    "plt.ylabel('Change in Number of Deaths')\n",
    "plt.xlabel('Age Group')\n",
    "plt.show()\n"
   ]
  },
  {
   "cell_type": "code",
   "execution_count": null,
   "id": "dc8b3592",
   "metadata": {},
   "outputs": [],
   "source": []
  }
 ],
 "metadata": {
  "kernelspec": {
   "display_name": "Python 3 (ipykernel)",
   "language": "python",
   "name": "python3"
  },
  "language_info": {
   "codemirror_mode": {
    "name": "ipython",
    "version": 3
   },
   "file_extension": ".py",
   "mimetype": "text/x-python",
   "name": "python",
   "nbconvert_exporter": "python",
   "pygments_lexer": "ipython3",
   "version": "3.9.12"
  }
 },
 "nbformat": 4,
 "nbformat_minor": 5
}
